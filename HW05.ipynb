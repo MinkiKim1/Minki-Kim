{
 "cells": [
  {
   "cell_type": "markdown",
   "id": "1208ee87",
   "metadata": {},
   "source": [
    "2. Towards the end of the \"first pre-lecture\" video (above) it is stated that, \"It is important to note that outcomes of tests refer to the population parameter, rather than the sample statistic! As such, the result that we get is for the population.\" In terms of the distinctions between the concepts of \n",
    "'s, \n",
    ", \n",
    ", and \n",
    ", how would you describe what the sentence above means? Explain this concisely in your own words for a \"non-statsitical\" audience, defining the technical statistical terminology you use in your answer.\n"
   ]
  },
  {
   "cell_type": "markdown",
   "id": "c7706e3a",
   "metadata": {},
   "source": [
    "Statistical analysis focuses on inferring population parameters ($\\mu$), not only sample statistics ($\\bar{x}$). A sample represents just a tiny portion of the population, but statistical tests utilize it to make conclusions about the whole population.\n",
    "\n",
    "A single observation in the sample is $x_i$. Imagine a corporation surveying 50 workers to rate job satisfaction from 1 to 10. Employee responses are $x_i$ values. Combining these data points yields the sample mean ($\\bar{x}$), a summary of the sample. Consider a 7.8 average satisfaction score among polled workers ($\\bar{x}$). However, $\\bar{x}$ may not accurately represent the mean satisfaction score ($\\mu$) of all corporate workers.\n",
    "\n",
    "The genuine average satisfaction score of all firm workers is represented by the population mean ($\\mu$). Since polling all employees is unrealistic, $\\mu$ must be approximated from the sample. Under the null hypothesis ($H_0$), a particular population mean value ($\\mu_0$) is provided to test a hypothesis. The genuine mean satisfaction score of all workers may be 7.5 ($\\mu_0 = 7.5$).\n",
    "\n",
    "Statistics compare the sample mean ($\\bar{x}$) to the hypothesized mean ($\\mu_0$) to determine whether data support rejecting the null hypothesis. A sample mean considerably greater than $\\mu_0$ may suggest that the population mean ($\\mu$) varies from the predicted value. Individual observations ($x_i$) are aggregated into $\\bar{x}$ to infer information about $\\mu$, ensuring population conclusions are based on sample evidence. Statistical testing connects restricted sample data to population-level conclusions.\n",
    "\n"
   ]
  },
  {
   "cell_type": "markdown",
   "id": "1ebdd8a1",
   "metadata": {},
   "source": [
    "Chatbot session: https://chatgpt.com/share/6749218a-5fe8-800e-8829-d95af725995d"
   ]
  },
  {
   "cell_type": "markdown",
   "id": "46d98fb5",
   "metadata": {},
   "source": [
    "4. The second \"Pre-lecture\" video (above) suggests that a smaller p-value makes the null hypothesis look more ridiculous. Explain why this is in your own words in a way that makes the most sense to you, clarifying the meaning of any technical statistical terminology you use in your answer."
   ]
  },
  {
   "cell_type": "markdown",
   "id": "91c8267d",
   "metadata": {},
   "source": [
    "A small p-value indicates that the data does not match $(H_0)$. \n",
    "For instance:\n",
    "- A p-value of 0.05 indicates a 5% likelihood of achieving the reported extreme outcome if $(H_0)$ is true.\n",
    "A 0.1% likelihood of a result under $(H_0)$ is indicated by a p-value of 0.001, making it exceedingly improbable.\n",
    "\n",
    "- A small p-value suggests that the recorded data is very unlikely to be true if the null hypothesis $(H_0)$ is true. According to the assumption H_0, the p-value shows how likely it is to get a test statistic that is as extreme as or more extreme than the one that was seen. You can tell that the data doesn't fit with what H_0 says when this chance is very low.\n",
    "\n",
    "Within the hypothesis $(H_0)$, the test statistic follows a certain sampling distribution that shows the range of values that would be expected due to chance variation. An extremely low p-value means that the test statistic is near the bottom of this distribution, which means that the finding is very rare for $(H_0)$. Here's an example: - A p-value of 0.05 means there is a 5% chance of getting that kind of data under $(H_0)$; - A p-value of 0.001 means there is only a 0.1% chance, which makes $(H_0)$) look even less likely.\n",
    "\n",
    "p-values show how strong the evidence is against H_0. That proves the null hypothesis probably can't explain the data that was collected.\n",
    "\n",
    "Simply put, small p-values raise questions about the null hypothesis by showing how badly it fits with what was observed. This weakens the case for rejecting H_0 in favor of a different theory.\n"
   ]
  },
  {
   "cell_type": "markdown",
   "id": "4df3ed5c",
   "metadata": {},
   "source": [
    "Chatbot session: https://chatgpt.com/share/674fbb48-2a30-800e-bf18-7b19ec0bdccd"
   ]
  },
  {
   "cell_type": "markdown",
   "id": "0a999be7",
   "metadata": {},
   "source": [
    "8. Complete the following assignment.\n",
    "Fisher's Tea Experiment Data Analysis Assignment"
   ]
  },
  {
   "cell_type": "markdown",
   "id": "819f55f0",
   "metadata": {},
   "source": [
    "Introduction\n",
    "\n",
    "Fisher's popular experiment with tea tasting served as the impetus for the investigation. The purpose of this exercise was to ascertain whether or not the students in STA130 were able to differentiate between the sequence in which milk or tea was poured. The experiment was conducted with a total of eighty students, and out of them, forty-nine individuals were able to accurately identify the sequence in which the pouring was performed. A statistical hypothesis test was carried out in order to determine whether or not the outcomes could be ascribed to a random guessing process or whether or not the students really displayed an ability to differentiate between the two sets of information.\n",
    "\n",
    "Hypthothesis\n",
    "\n",
    "The hypotheses for the experiment were stated as follows:\n",
    "- For the purpose of the null hypothesis (H_0), it was assumed that the students were making guesses at random, and the likelihood of making an accurate identification was calculated to be 0.5.\n",
    "- For the alternative hypothesis (H_A), it was postulated that the students had the capacity to differentiate between the order in which they poured, which led to a probability of p greater than 0.5.\n",
    "\n",
    "Summary\n",
    "\n",
    "This is a summary of the data that was collected:\n",
    "- There were 80 students included in the sample size (n).\n",
    "- The total number of responses that were found to be accurate (x) was recorded as 49.\n",
    "The estimated value for the observed percentage (\\(\\hat{p}\\)) turns out to be \\(49 / 80 = 0.6125\\), which is equivalent to 61.25%.\n",
    "\n",
    "A binomial test with one tail was carried out in order to determine the validity of the hypotheses. The purpose of selecting this test was to determine if the observed success rate (\\(\\hat{p}\\)) was considerably higher than the predicted success rate, which was based on the null hypothesis (\\(p_0 = 0.5\\)). Following the calculation of the test statistic, the p-value was obtained in order to ascertain the degree of evidence that is contrary to the null hypothesis (H_0).\n",
    "\n",
    "The following are the findings that resulted from the analysis:\n",
    "- The estimated value for the observed percentage (\\(\\hat{p}\\)) was 0.6125, which is equivalent to 61.25%.\n",
    "- The p-value was 0.0283, which is equivalent to about 2.83% of the total.\n",
    "\n",
    "\n",
    "Based on the interpretation of the data, the null hypothesis (H_0) was rejected. \n",
    "- This was due to the fact that the p-value (0.0283) was lower than the significance threshold (\\(\\alpha = 0.05\\)).\n",
    "- Based on the data, it seems that the students did not make their guesses at random and may have some capacity to differentiate between the different pouring orders.\n",
    "\n",
    "Results\n",
    "\n",
    "The results were interpreted as follows:\n",
    "- Due to the observation that the p-value (0.0283) was lower than the significance level (\\(\\alpha = 0.05\\)), the null hypothesis (\\(H_0\\)) was rejected.\n",
    "- Based on the data, it seems that the students did not make their guesses at random and may have some capacity to differentiate between the different pouring orders.\n",
    "\n",
    "Conclusion\n",
    "\n",
    "In conclusion, it emerged that the success rate that was observed, which was 61.25%, was much greater than the assumption of 50% that was made based on random guessing. It was determined that the alternative hypothesis, which stated that the students displayed an actual capacity to discern between the sequence in which they poured milk and tea, was more likely to be correct than the null hypothesis.\n",
    "\n",
    "Discussion\n",
    "\n",
    "By demonstrating the significance of hypothesis testing in the process of evaluating claims about human capability and sensory distinction, this investigation established its value. Despite the fact that the findings revealed statistical significance, it is possible that the students' performance was impacted by an extra set of variables, such as previous experience or external circumstances. Experiments that are conducted in the future might make use of bigger sample numbers, randomized circumstances, or controlled factors in order to bolster the results and give more insights on the capability of distinguishing the pouring order.\n",
    "\n",
    "\n",
    "\n"
   ]
  },
  {
   "cell_type": "markdown",
   "id": "3d3cc2df",
   "metadata": {},
   "source": [
    "Chatbot session: https://chatgpt.com/share/674fc19a-6208-800e-80d0-0aada3c7cb44"
   ]
  },
  {
   "cell_type": "code",
   "execution_count": null,
   "id": "8ba37c7b",
   "metadata": {},
   "outputs": [],
   "source": []
  }
 ],
 "metadata": {
  "kernelspec": {
   "display_name": "Python 3 (ipykernel)",
   "language": "python",
   "name": "python3"
  },
  "language_info": {
   "codemirror_mode": {
    "name": "ipython",
    "version": 3
   },
   "file_extension": ".py",
   "mimetype": "text/x-python",
   "name": "python",
   "nbconvert_exporter": "python",
   "pygments_lexer": "ipython3",
   "version": "3.11.6"
  }
 },
 "nbformat": 4,
 "nbformat_minor": 5
}
